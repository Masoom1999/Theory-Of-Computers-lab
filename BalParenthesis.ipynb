{
 "cells": [
  {
   "cell_type": "markdown",
   "metadata": {},
   "source": [
    "Using stack datastructure, check if the string has equal parenthesis."
   ]
  },
  {
   "cell_type": "code",
   "execution_count": 1,
   "metadata": {},
   "outputs": [
    {
     "name": "stdin",
     "output_type": "stream",
     "text": [
      " (()()\n"
     ]
    },
    {
     "name": "stdout",
     "output_type": "stream",
     "text": [
      "not equal\n"
     ]
    }
   ],
   "source": [
    "stack=[]\n",
    "def push():\n",
    "    stack.append('(')\n",
    "def pop():\n",
    "    if stack==[]:\n",
    "        return -1\n",
    "    else:\n",
    "        stack.pop()\n",
    "        return 0    \n",
    "s=input()\n",
    "result=0\n",
    "for i in range(len(s)):\n",
    "    if s[i]=='(':\n",
    "        push()\n",
    "    elif s[i]==')':\n",
    "        result=pop()\n",
    "        if result==-1:\n",
    "            break;\n",
    "if result==-1:\n",
    "    print(\"not equal\")\n",
    "elif stack==[]:\n",
    "    print(\"equal\")\n",
    "else:\n",
    "    print(\"not equal\")"
   ]
  },
  {
   "cell_type": "code",
   "execution_count": null,
   "metadata": {},
   "outputs": [],
   "source": []
  }
 ],
 "metadata": {
  "kernelspec": {
   "display_name": "Python 3",
   "language": "python",
   "name": "python3"
  },
  "language_info": {
   "codemirror_mode": {
    "name": "ipython",
    "version": 3
   },
   "file_extension": ".py",
   "mimetype": "text/x-python",
   "name": "python",
   "nbconvert_exporter": "python",
   "pygments_lexer": "ipython3",
   "version": "3.7.3"
  }
 },
 "nbformat": 4,
 "nbformat_minor": 4
}
