{
 "cells": [
  {
   "cell_type": "markdown",
   "metadata": {},
   "source": [
    "DFAImplementation of machine with equal numbers of 1s and 0s"
   ]
  },
  {
   "cell_type": "code",
   "execution_count": null,
   "metadata": {},
   "outputs": [],
   "source": [
    "#defining states with tuples\n",
    "dfa = dict()\n",
    "dfa[('q1','0')]='q2'\n",
    "dfa[('q1','1')]='q3'\n",
    "dfa[('q2','0')]='q3'\n",
    "dfa[('q2','1')]='q0'\n",
    "dfa[('q2','0')]='q0'\n",
    "dfa[('q2','1')]='q2'\n",
    "\n",
    "\n",
    "#initialising states\n",
    "iis = 'q0'\n",
    "fs = {'q0'}\n",
    "str = input('Enter String')\n",
    "cs = iis\n",
    "\n",
    "#looping\n",
    "for i in str:\n",
    "    cs = dfa[(cs,i)]\n",
    "if cs in fs:\n",
    "    print('Valid String')\n",
    "else :\n",
    "    print('Invalid String')"
   ]
  },
  {
   "cell_type": "markdown",
   "metadata": {},
   "source": [
    "DFAImplementation of strings containing 111 "
   ]
  },
  {
   "cell_type": "code",
   "execution_count": 1,
   "metadata": {},
   "outputs": [
    {
     "name": "stdin",
     "output_type": "stream",
     "text": [
      "Enter String 11101111\n"
     ]
    },
    {
     "name": "stdout",
     "output_type": "stream",
     "text": [
      "Valid String\n"
     ]
    }
   ],
   "source": [
    "#defining states with tuples\n",
    "dfa = dict()\n",
    "dfa[('q0','0')]='q0'\n",
    "dfa[('q0','1')]='q1'\n",
    "dfa[('q1','0')]='q0'\n",
    "dfa[('q1','1')]='q2'\n",
    "dfa[('q2','0')]='q0'\n",
    "dfa[('q2','1')]='q3'\n",
    "dfa[('q3','0')]='q3'\n",
    "dfa[('q3','1')]='q3'\n",
    "\n",
    "#initialising states\n",
    "iis = 'q0'\n",
    "fs = {'q3'}\n",
    "str = input('Enter String')\n",
    "cs = iis\n",
    "\n",
    "#looping\n",
    "for i in str:\n",
    "    cs = dfa[(cs,i)]\n",
    "if cs in fs:\n",
    "    print('Valid String')\n",
    "else :\n",
    "    print('Invalid String')"
   ]
  },
  {
   "cell_type": "markdown",
   "metadata": {},
   "source": [
    "Program for mod 3 machine"
   ]
  },
  {
   "cell_type": "code",
   "execution_count": 3,
   "metadata": {},
   "outputs": [
    {
     "name": "stdin",
     "output_type": "stream",
     "text": [
      " 2\n",
      " 1110\n"
     ]
    },
    {
     "name": "stdout",
     "output_type": "stream",
     "text": [
      "STRING IS NOT ACCEPTABLE..!\n"
     ]
    },
    {
     "name": "stdin",
     "output_type": "stream",
     "text": [
      " 100\n"
     ]
    },
    {
     "name": "stdout",
     "output_type": "stream",
     "text": [
      "STRING ACCEPTED\n"
     ]
    }
   ],
   "source": [
    "d={'a':{'0':'b','1':'b'},'b':{'0':'c','1':'c'},'c':{'0':'a','1':'a'}}\n",
    "n=int(input())\n",
    "while(n):\n",
    "\n",
    "  _str=input()\n",
    "  state='a'\n",
    "  for i in _str:\n",
    "    state=d[state][i]\n",
    "  if state=='a':\n",
    "    print(\"STRING ACCEPTED\")\n",
    "  else:\n",
    "    print(\"STRING IS NOT ACCEPTABLE..!\")\n",
    "  n=n-1"
   ]
  },
  {
   "cell_type": "markdown",
   "metadata": {},
   "source": [
    "Program for string ending with '101'"
   ]
  },
  {
   "cell_type": "code",
   "execution_count": 4,
   "metadata": {},
   "outputs": [
    {
     "name": "stdin",
     "output_type": "stream",
     "text": [
      " 1\n",
      "Enter a string :  000101\n"
     ]
    },
    {
     "name": "stdout",
     "output_type": "stream",
     "text": [
      " String accepted \n"
     ]
    }
   ],
   "source": [
    "d=dict()\n",
    "d[(0,'0')]=0\n",
    "d[(0,'1')]=1\n",
    "d[(1,'0')]=2\n",
    "d[(1,'1')]=1\n",
    "d[(2,'0')]=0\n",
    "d[(2,'1')]=3\n",
    "d[(3,'0')]=0\n",
    "d[(3,'1')]=0\n",
    "n=int(input())\n",
    "while(n):\n",
    "    fs=3\n",
    "    c=0\n",
    "    s=input(\"Enter a string : \")\n",
    "    for i in s:\n",
    "        if i=='0':\n",
    "            c=d[c,i]\n",
    "        elif i=='1':\n",
    "            c=d[c,i]\n",
    "    if c==fs:\n",
    "        print(\" String accepted \")\n",
    "    else:\n",
    "        print(\"String not accepted \")\n",
    "    n=n-1"
   ]
  },
  {
   "cell_type": "markdown",
   "metadata": {},
   "source": [
    "Program for String starting with 'a'"
   ]
  },
  {
   "cell_type": "code",
   "execution_count": null,
   "metadata": {},
   "outputs": [],
   "source": [
    "#dictionary for machine accepting strings starting with 'a'\n",
    "dfa={0:{'a':1,'b':2},1:{'a':1,'b':1},2:{'a':2,'b':2}}\n",
    "_str=input(\"Enter a string==> \")\n",
    "c=1\n",
    "for i in _str:\n",
    "    if (_str.count('a')+_str.count('b')!=len(_str)):\n",
    "        print(\"INVALID STRING..!!\")\n",
    "        c=0\n",
    "        break\n",
    "   \n",
    "if(c==1):        \n",
    "    print(\"STATE TRANSITION : \")\n",
    "    print()\n",
    "    st=0\n",
    "    for i in _str:\n",
    "        print(str(st)+\" --> \"+str(dfa[st][i]))\n",
    "        st=dfa[st][i]"
   ]
  }
 ],
 "metadata": {
  "kernelspec": {
   "display_name": "Python 3",
   "language": "python",
   "name": "python3"
  },
  "language_info": {
   "codemirror_mode": {
    "name": "ipython",
    "version": 3
   },
   "file_extension": ".py",
   "mimetype": "text/x-python",
   "name": "python",
   "nbconvert_exporter": "python",
   "pygments_lexer": "ipython3",
   "version": "3.7.3"
  }
 },
 "nbformat": 4,
 "nbformat_minor": 4
}
