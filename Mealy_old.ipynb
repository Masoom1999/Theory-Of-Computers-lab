{
 "cells": [
  {
   "cell_type": "markdown",
   "metadata": {},
   "source": [
    "Mealy machine that output 2's complement of a binary number."
   ]
  },
  {
   "cell_type": "code",
   "execution_count": 2,
   "metadata": {},
   "outputs": [
    {
     "name": "stdin",
     "output_type": "stream",
     "text": [
      "Enter any string:  11011\n"
     ]
    },
    {
     "name": "stdout",
     "output_type": "stream",
     "text": [
      "2's complement of given string  11011  is: 00101\n",
      "\n",
      "press 1 to continue and 2 to stop\n"
     ]
    },
    {
     "name": "stdin",
     "output_type": "stream",
     "text": [
      "Enter your choice:  1\n"
     ]
    },
    {
     "name": "stdout",
     "output_type": "stream",
     "text": [
      "you choose  1  option\n"
     ]
    },
    {
     "name": "stdin",
     "output_type": "stream",
     "text": [
      "Enter any string:  1111\n"
     ]
    },
    {
     "name": "stdout",
     "output_type": "stream",
     "text": [
      "2's complement of given string  1111  is: 0001\n",
      "\n",
      "press 1 to continue and 2 to stop\n"
     ]
    },
    {
     "name": "stdin",
     "output_type": "stream",
     "text": [
      "Enter your choice:  2\n"
     ]
    },
    {
     "name": "stdout",
     "output_type": "stream",
     "text": [
      "you choose  2  option\n",
      "Program stopped\n"
     ]
    }
   ],
   "source": [
    "while True:\n",
    "    dfa={'A':{'0':{'output':'0','state':'A'},'1':{'output':'1','state':'B'}},\n",
    "         'B':{'0':{'output':'1','state':'B'},'1':{'output':'0','state':'B'}}}\n",
    "    st=input(\"Enter any string: \")\n",
    "    print(\"2's complement of given string \",st,\" is: \",end=\"\")\n",
    "    st=st[::-1]\n",
    "    ini='A'\n",
    "    output=[]\n",
    "    for i in st:\n",
    "        output.append(dfa[ini][i]['output'])\n",
    "        ini=dfa[ini][i]['state']\n",
    "    print(''.join(output[::-1]))\n",
    "    print(\"\\npress 1 to continue and 2 to stop\")\n",
    "    c=int(input(\"Enter your choice: \"))\n",
    "    print(\"you choose \",c,\" option\")\n",
    "    if c==2:\n",
    "        print(\"Program stopped\")\n",
    "        break"
   ]
  },
  {
   "cell_type": "code",
   "execution_count": null,
   "metadata": {},
   "outputs": [],
   "source": []
  }
 ],
 "metadata": {
  "kernelspec": {
   "display_name": "Python 3",
   "language": "python",
   "name": "python3"
  },
  "language_info": {
   "codemirror_mode": {
    "name": "ipython",
    "version": 3
   },
   "file_extension": ".py",
   "mimetype": "text/x-python",
   "name": "python",
   "nbconvert_exporter": "python",
   "pygments_lexer": "ipython3",
   "version": "3.7.3"
  }
 },
 "nbformat": 4,
 "nbformat_minor": 4
}
