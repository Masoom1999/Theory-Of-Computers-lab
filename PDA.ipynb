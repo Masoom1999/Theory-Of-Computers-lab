{
 "cells": [
  {
   "cell_type": "markdown",
   "metadata": {},
   "source": [
    "PDA for accepting a^n.b^n"
   ]
  },
  {
   "cell_type": "code",
   "execution_count": null,
   "metadata": {},
   "outputs": [
    {
     "name": "stdin",
     "output_type": "stream",
     "text": [
      "Enter number of test cases :  3\n",
      "Your string ==>  abab\n"
     ]
    },
    {
     "name": "stdout",
     "output_type": "stream",
     "text": [
      "String Accepted.\n"
     ]
    },
    {
     "name": "stdin",
     "output_type": "stream",
     "text": [
      "Your string ==>  aabbb\n"
     ]
    },
    {
     "name": "stdout",
     "output_type": "stream",
     "text": [
      "String Declined.\n"
     ]
    },
    {
     "name": "stdin",
     "output_type": "stream",
     "text": [
      "Your string ==>  aabab\n"
     ]
    },
    {
     "name": "stdout",
     "output_type": "stream",
     "text": [
      "String Declined.\n"
     ]
    }
   ],
   "source": [
    "class stack:\n",
    "    def __init__(self):\n",
    "        self.a=[]\n",
    "    def push(self,item):\n",
    "        self.a.append(item)\n",
    "    def pop(self):\n",
    "        self.a.pop()\n",
    "    def size(self):\n",
    "        return len(self.a)\n",
    "    def isempty(self):\n",
    "        return len(self.a)==0\n",
    "    def tos(self):\n",
    "        return self.a[-1]\n",
    "ans=1\n",
    "n=int(input(\"Enter number of test cases : \"))\n",
    "while(n):\n",
    "    obj=stack()\n",
    "    _str=input(\"Your string ==> \")\n",
    "    for i in _str:\n",
    "        if i=='a':\n",
    "            obj.push(i)\n",
    "        else:\n",
    "            try:\n",
    "                obj.pop()\n",
    "            except:\n",
    "                ans=0\n",
    "    if obj.size()==0 and ans==1:\n",
    "        print(\"String Accepted.\")\n",
    "    else:\n",
    "        print(\"String Declined.\")\n"
   ]
  },
  {
   "cell_type": "markdown",
   "metadata": {},
   "source": [
    "PDA for accepting Language coantaining equal number of 0s and 1a"
   ]
  },
  {
   "cell_type": "code",
   "execution_count": null,
   "metadata": {},
   "outputs": [],
   "source": [
    "class stack:\n",
    "    def __init__(self):\n",
    "        self.a=[]\n",
    "    def push(self,item):\n",
    "        self.a.append(item)\n",
    "    def pop(self):\n",
    "        self.a.pop()\n",
    "    def size(self):\n",
    "        return len(self.a)\n",
    "    def isempty(self):\n",
    "        return len(self.a)==0\n",
    "    def tos(self):\n",
    "        return self.a[-1]\n",
    "ans=1\n",
    "n=int(input(\"Number of test cases : \"))\n",
    "while(n):\n",
    "    obj=stack()\n",
    "    _str=input(\"Enter your String==> \")\n",
    "    if _str[0]=='0':\n",
    "        for i in _str:\n",
    "            if i=='0':\n",
    "                obj.push(i)\n",
    "        for i in _str:\n",
    "            if i=='1':\n",
    "                try:\n",
    "                    obj.pop()\n",
    "                except:\n",
    "                    ans=0\n",
    "        if obj.size==0 and ans==1:\n",
    "            print(\"String accepted.\")\n",
    "        else:\n",
    "            print(\"string Delined.\")\n",
    "        print()\n",
    "\n",
    "    if _str[0]=='1':\n",
    "        for i in _str:\n",
    "            if i=='1':\n",
    "                obj.push(i)\n",
    "        for i in _str:\n",
    "            if i=='0':\n",
    "                try:\n",
    "                    obj.pop()\n",
    "                except:\n",
    "                    ans=0\n",
    "        if obj.size()==0 and ans==1:\n",
    "            print(\"STRING ACCEPTED..!!\")\n",
    "        else:\n",
    "            print(\"INVALID STRING!!!!!!\")\n",
    "        print()\n",
    "    n=n-1"
   ]
  }
 ],
 "metadata": {
  "kernelspec": {
   "display_name": "Python 3",
   "language": "python",
   "name": "python3"
  },
  "language_info": {
   "codemirror_mode": {
    "name": "ipython",
    "version": 3
   },
   "file_extension": ".py",
   "mimetype": "text/x-python",
   "name": "python",
   "nbconvert_exporter": "python",
   "pygments_lexer": "ipython3",
   "version": "3.7.3"
  }
 },
 "nbformat": 4,
 "nbformat_minor": 4
}
