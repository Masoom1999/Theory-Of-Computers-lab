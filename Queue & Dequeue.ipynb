{
 "cells": [
  {
   "cell_type": "markdown",
   "metadata": {},
   "source": [
    "WAP to show basic queue and its operations."
   ]
  },
  {
   "cell_type": "code",
   "execution_count": 1,
   "metadata": {},
   "outputs": [
    {
     "name": "stdout",
     "output_type": "stream",
     "text": [
      "4\n",
      "50\n",
      "3\n"
     ]
    }
   ],
   "source": [
    "class Queue:\n",
    "    def __init__(self):\n",
    "        self.items=[]\n",
    "    def enqueue(self,i):\n",
    "        self.items.append(i)\n",
    "    def delete(self):\n",
    "        return(self.items.pop(0))\n",
    "    def size(self):\n",
    "        return len(self.items)\n",
    "q=Queue();\n",
    "q.enqueue(50)\n",
    "q.enqueue(40)\n",
    "q.enqueue(10)\n",
    "q.enqueue(22)\n",
    "print(q.size())\n",
    "print(q.delete())\n",
    "print(q.size())"
   ]
  },
  {
   "cell_type": "markdown",
   "metadata": {},
   "source": [
    "WAP in python for dequeue with user input."
   ]
  },
  {
   "cell_type": "code",
   "execution_count": null,
   "metadata": {},
   "outputs": [
    {
     "name": "stdout",
     "output_type": "stream",
     "text": [
      "1.Insert at front\n",
      "2.Insert at rear\n",
      "3.Delete from front\n",
      "4.Delete from rear\n",
      "5.Show the queue\n",
      "6.Return size of queue\n",
      "7.Exit\n"
     ]
    },
    {
     "name": "stdin",
     "output_type": "stream",
     "text": [
      " 1\n",
      "Enter element: 22\n"
     ]
    },
    {
     "name": "stdout",
     "output_type": "stream",
     "text": [
      "1.Insert at front\n",
      "2.Insert at rear\n",
      "3.Delete from front\n",
      "4.Delete from rear\n",
      "5.Show the queue\n",
      "6.Return size of queue\n",
      "7.Exit\n"
     ]
    },
    {
     "name": "stdin",
     "output_type": "stream",
     "text": [
      " 1\n",
      "Enter element: 23\n"
     ]
    },
    {
     "name": "stdout",
     "output_type": "stream",
     "text": [
      "1.Insert at front\n",
      "2.Insert at rear\n",
      "3.Delete from front\n",
      "4.Delete from rear\n",
      "5.Show the queue\n",
      "6.Return size of queue\n",
      "7.Exit\n"
     ]
    },
    {
     "name": "stdin",
     "output_type": "stream",
     "text": [
      " 5\n"
     ]
    },
    {
     "name": "stdout",
     "output_type": "stream",
     "text": [
      "[23, 22]\n",
      "1.Insert at front\n",
      "2.Insert at rear\n",
      "3.Delete from front\n",
      "4.Delete from rear\n",
      "5.Show the queue\n",
      "6.Return size of queue\n",
      "7.Exit\n"
     ]
    },
    {
     "name": "stdin",
     "output_type": "stream",
     "text": [
      " 6\n"
     ]
    },
    {
     "name": "stdout",
     "output_type": "stream",
     "text": [
      "2\n",
      "1.Insert at front\n",
      "2.Insert at rear\n",
      "3.Delete from front\n",
      "4.Delete from rear\n",
      "5.Show the queue\n",
      "6.Return size of queue\n",
      "7.Exit\n"
     ]
    },
    {
     "name": "stdin",
     "output_type": "stream",
     "text": [
      " 2\n",
      "Enter element: 24\n"
     ]
    },
    {
     "name": "stdout",
     "output_type": "stream",
     "text": [
      "1.Insert at front\n",
      "2.Insert at rear\n",
      "3.Delete from front\n",
      "4.Delete from rear\n",
      "5.Show the queue\n",
      "6.Return size of queue\n",
      "7.Exit\n"
     ]
    },
    {
     "name": "stdin",
     "output_type": "stream",
     "text": [
      " 2\n",
      "Enter element: 25\n"
     ]
    },
    {
     "name": "stdout",
     "output_type": "stream",
     "text": [
      "1.Insert at front\n",
      "2.Insert at rear\n",
      "3.Delete from front\n",
      "4.Delete from rear\n",
      "5.Show the queue\n",
      "6.Return size of queue\n",
      "7.Exit\n"
     ]
    },
    {
     "name": "stdin",
     "output_type": "stream",
     "text": [
      " 3\n"
     ]
    },
    {
     "name": "stdout",
     "output_type": "stream",
     "text": [
      "1.Insert at front\n",
      "2.Insert at rear\n",
      "3.Delete from front\n",
      "4.Delete from rear\n",
      "5.Show the queue\n",
      "6.Return size of queue\n",
      "7.Exit\n"
     ]
    }
   ],
   "source": [
    "class deQueue():\n",
    "    def __init__(self):\n",
    "        self.items=[]\n",
    "    def insert_rear(self,item):\n",
    "        self.items.append(item)\n",
    "    def insert_front(self,item):\n",
    "        self.items.insert(0,item)\n",
    "    def delete_rear(self):\n",
    "        self.items.pop()\n",
    "    def delete_front(self):\n",
    "        self.items.pop(0)\n",
    "    def show(self):\n",
    "        print(self.items)\n",
    "    def size(self):\n",
    "        print(len(self.items))\n",
    "d=deQueue()\n",
    "while 1:\n",
    "    print(\"1.Insert at front\")\n",
    "    print(\"2.Insert at rear\")\n",
    "    print(\"3.Delete from front\")\n",
    "    print(\"4.Delete from rear\")\n",
    "    print(\"5.Show the queue\")\n",
    "    print(\"6.Return size of queue\")\n",
    "    print(\"7.Exit\")\n",
    "    ch=input()\n",
    "    if ch=='1':\n",
    "        element=int(input(\"Enter element:\"))\n",
    "        d.insert_front(element)\n",
    "    elif ch == '2':\n",
    "        element = int(input(\"Enter element:\"))\n",
    "        d.insert_rear(element)\n",
    "    elif ch=='3':\n",
    "        d.delete_front()\n",
    "    elif ch=='4':\n",
    "        d.delete_rear()\n",
    "    elif ch=='5':\n",
    "        d.show()\n",
    "    elif ch=='6':\n",
    "        d.size()\n",
    "    elif ch=='7':\n",
    "        break\n",
    "    else:\n",
    "        print(\"wrong choice\")"
   ]
  },
  {
   "cell_type": "code",
   "execution_count": null,
   "metadata": {},
   "outputs": [],
   "source": []
  }
 ],
 "metadata": {
  "kernelspec": {
   "display_name": "Python 3",
   "language": "python",
   "name": "python3"
  },
  "language_info": {
   "codemirror_mode": {
    "name": "ipython",
    "version": 3
   },
   "file_extension": ".py",
   "mimetype": "text/x-python",
   "name": "python",
   "nbconvert_exporter": "python",
   "pygments_lexer": "ipython3",
   "version": "3.7.3"
  }
 },
 "nbformat": 4,
 "nbformat_minor": 4
}
