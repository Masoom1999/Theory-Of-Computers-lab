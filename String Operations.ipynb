{
 "cells": [
  {
   "cell_type": "markdown",
   "metadata": {},
   "source": [
    "WAP to accept a sentence and count the no of vowels, special symbols and spaces."
   ]
  },
  {
   "cell_type": "code",
   "execution_count": 1,
   "metadata": {},
   "outputs": [
    {
     "name": "stdin",
     "output_type": "stream",
     "text": [
      " abc def\n"
     ]
    },
    {
     "name": "stdout",
     "output_type": "stream",
     "text": [
      "no of vowels: 2\n",
      "no of spcl char: 0\n",
      "no of spaces: 1\n",
      "no of words: 2\n"
     ]
    }
   ],
   "source": [
    "a = input()\n",
    "v=0\n",
    "s=0\n",
    "sp=0\n",
    "w=0\n",
    "arr1 = ['A','E','I','O','U','a','e','i','o','u']\n",
    "arr2 = ['!','@','$','%','^','&','*','(',')']\n",
    "arr3 = ' '\n",
    "for i in a:\n",
    "    if (i in arr1):\n",
    "        v=v+1\n",
    "    elif (i in arr2):\n",
    "        s=s+1\n",
    "    elif (i == arr3):\n",
    "        sp=sp+1\n",
    "m =a.split()\n",
    "        \n",
    "print(\"no of vowels: \" +str(v))\n",
    "print(\"no of spcl char: \" +str(s))\n",
    "print(\"no of spaces: \" +str(sp))\n",
    "print(\"no of words: \" +str(len(m)))\n",
    "\n",
    "        \n",
    "        \n",
    "        \n"
   ]
  },
  {
   "cell_type": "markdown",
   "metadata": {},
   "source": [
    "WAP to read a file and count the no of words."
   ]
  },
  {
   "cell_type": "code",
   "execution_count": 2,
   "metadata": {},
   "outputs": [
    {
     "name": "stdout",
     "output_type": "stream",
     "text": [
      "Number of words: 10\n"
     ]
    }
   ],
   "source": [
    "w = 0\n",
    "temp = 0\n",
    "filename = (\"abc.txt\")\n",
    "with open(filename) as file:\n",
    "    for line in file:\n",
    "        temp=0\n",
    "        l = line.split()\n",
    "        temp = len(l)\n",
    "        w= w+temp\n",
    "print(\"Number of words: \" + str(w))        \n",
    "        \n",
    "        \n"
   ]
  },
  {
   "cell_type": "markdown",
   "metadata": {},
   "source": [
    "WAP to accept a string coantaining multiple 'is' and replace 'is' with 'was'."
   ]
  },
  {
   "cell_type": "code",
   "execution_count": 3,
   "metadata": {},
   "outputs": [
    {
     "name": "stdin",
     "output_type": "stream",
     "text": [
      " this is my program\n"
     ]
    },
    {
     "name": "stdout",
     "output_type": "stream",
     "text": [
      "this was my program\n"
     ]
    }
   ],
   "source": [
    "a = input()\n",
    "str = a.replace(\" is \",\" was \")\n",
    "print(str)\n"
   ]
  },
  {
   "cell_type": "code",
   "execution_count": null,
   "metadata": {},
   "outputs": [],
   "source": []
  }
 ],
 "metadata": {
  "kernelspec": {
   "display_name": "Python 3",
   "language": "python",
   "name": "python3"
  },
  "language_info": {
   "codemirror_mode": {
    "name": "ipython",
    "version": 3
   },
   "file_extension": ".py",
   "mimetype": "text/x-python",
   "name": "python",
   "nbconvert_exporter": "python",
   "pygments_lexer": "ipython3",
   "version": "3.6.7"
  }
 },
 "nbformat": 4,
 "nbformat_minor": 2
}
